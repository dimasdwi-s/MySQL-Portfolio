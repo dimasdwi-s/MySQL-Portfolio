{
  "cells": [
    {
      "cell_type": "markdown",
      "metadata": {
        "id": "i3ia6Nj7scuH"
      },
      "source": [
        "# MySQL Exercise\n",
        "\n",
        "<hr>"
      ]
    },
    {
      "cell_type": "markdown",
      "metadata": {
        "id": "7sQwdBydscuq"
      },
      "source": [
        "## Import Library"
      ]
    },
    {
      "cell_type": "code",
      "execution_count": null,
      "metadata": {
        "id": "dH2kqZwWscus"
      },
      "outputs": [],
      "source": [
        "import mysql.connector\n",
        "import pandas as pd"
      ]
    },
    {
      "cell_type": "markdown",
      "metadata": {
        "id": "Cxnu_TPDscuv"
      },
      "source": [
        "## Buat Koneksi Ke Database"
      ]
    },
    {
      "cell_type": "code",
      "execution_count": null,
      "metadata": {
        "id": "NjudXzKbscuw"
      },
      "outputs": [],
      "source": [
        "mydb = mysql.connector.connect(\n",
        "    host = 'localhost',\n",
        "    user = 'root',\n",
        "    passwd = '12345',\n",
        "    database = 'sakila')"
      ]
    },
    {
      "cell_type": "markdown",
      "metadata": {
        "id": "HHx84Z6rscuy"
      },
      "source": [
        "## Fungsi Query"
      ]
    },
    {
      "cell_type": "code",
      "execution_count": null,
      "metadata": {
        "id": "ktJegxcfscuz"
      },
      "outputs": [],
      "source": [
        "kursor = mydb.cursor()\n",
        "def buat_sql(query) :\n",
        "    kursor.execute(query)\n",
        "    hasil = kursor.fetchall()\n",
        "    data = pd.DataFrame(data = hasil, columns = kursor.column_names)\n",
        "    return data"
      ]
    },
    {
      "cell_type": "markdown",
      "metadata": {
        "id": "JhCgrjsgscu0"
      },
      "source": [
        "<hr>\n",
        "\n",
        "### Soal 1"
      ]
    },
    {
      "cell_type": "markdown",
      "metadata": {
        "id": "q8CHjOFUscu2"
      },
      "source": [
        "1. Gunakan database “Sakila”\n",
        "1. Tampilkan 10 baris data customer id, rental id, amount, dan payment date pada table payment.\n"
      ]
    },
    {
      "cell_type": "code",
      "execution_count": null,
      "metadata": {
        "id": "XdLoHJnEscu5",
        "outputId": "b04b6b72-d032-45b4-d59c-4789873aa340"
      },
      "outputs": [
        {
          "data": {
            "text/html": [
              "<div>\n",
              "<style scoped>\n",
              "    .dataframe tbody tr th:only-of-type {\n",
              "        vertical-align: middle;\n",
              "    }\n",
              "\n",
              "    .dataframe tbody tr th {\n",
              "        vertical-align: top;\n",
              "    }\n",
              "\n",
              "    .dataframe thead th {\n",
              "        text-align: right;\n",
              "    }\n",
              "</style>\n",
              "<table border=\"1\" class=\"dataframe\">\n",
              "  <thead>\n",
              "    <tr style=\"text-align: right;\">\n",
              "      <th></th>\n",
              "      <th>customer_id</th>\n",
              "      <th>rental_id</th>\n",
              "      <th>amount</th>\n",
              "      <th>payment_date</th>\n",
              "    </tr>\n",
              "  </thead>\n",
              "  <tbody>\n",
              "    <tr>\n",
              "      <th>0</th>\n",
              "      <td>1</td>\n",
              "      <td>76</td>\n",
              "      <td>2.99</td>\n",
              "      <td>2005-05-25 11:30:37</td>\n",
              "    </tr>\n",
              "    <tr>\n",
              "      <th>1</th>\n",
              "      <td>1</td>\n",
              "      <td>573</td>\n",
              "      <td>0.99</td>\n",
              "      <td>2005-05-28 10:35:23</td>\n",
              "    </tr>\n",
              "    <tr>\n",
              "      <th>2</th>\n",
              "      <td>1</td>\n",
              "      <td>1185</td>\n",
              "      <td>5.99</td>\n",
              "      <td>2005-06-15 00:54:12</td>\n",
              "    </tr>\n",
              "    <tr>\n",
              "      <th>3</th>\n",
              "      <td>1</td>\n",
              "      <td>1422</td>\n",
              "      <td>0.99</td>\n",
              "      <td>2005-06-15 18:02:53</td>\n",
              "    </tr>\n",
              "    <tr>\n",
              "      <th>4</th>\n",
              "      <td>1</td>\n",
              "      <td>1476</td>\n",
              "      <td>9.99</td>\n",
              "      <td>2005-06-15 21:08:46</td>\n",
              "    </tr>\n",
              "    <tr>\n",
              "      <th>5</th>\n",
              "      <td>1</td>\n",
              "      <td>1725</td>\n",
              "      <td>4.99</td>\n",
              "      <td>2005-06-16 15:18:57</td>\n",
              "    </tr>\n",
              "    <tr>\n",
              "      <th>6</th>\n",
              "      <td>1</td>\n",
              "      <td>2308</td>\n",
              "      <td>4.99</td>\n",
              "      <td>2005-06-18 08:41:48</td>\n",
              "    </tr>\n",
              "    <tr>\n",
              "      <th>7</th>\n",
              "      <td>1</td>\n",
              "      <td>2363</td>\n",
              "      <td>0.99</td>\n",
              "      <td>2005-06-18 13:33:59</td>\n",
              "    </tr>\n",
              "    <tr>\n",
              "      <th>8</th>\n",
              "      <td>1</td>\n",
              "      <td>3284</td>\n",
              "      <td>3.99</td>\n",
              "      <td>2005-06-21 06:24:45</td>\n",
              "    </tr>\n",
              "    <tr>\n",
              "      <th>9</th>\n",
              "      <td>1</td>\n",
              "      <td>4526</td>\n",
              "      <td>5.99</td>\n",
              "      <td>2005-07-08 03:17:05</td>\n",
              "    </tr>\n",
              "  </tbody>\n",
              "</table>\n",
              "</div>"
            ],
            "text/plain": [
              "   customer_id  rental_id amount        payment_date\n",
              "0            1         76   2.99 2005-05-25 11:30:37\n",
              "1            1        573   0.99 2005-05-28 10:35:23\n",
              "2            1       1185   5.99 2005-06-15 00:54:12\n",
              "3            1       1422   0.99 2005-06-15 18:02:53\n",
              "4            1       1476   9.99 2005-06-15 21:08:46\n",
              "5            1       1725   4.99 2005-06-16 15:18:57\n",
              "6            1       2308   4.99 2005-06-18 08:41:48\n",
              "7            1       2363   0.99 2005-06-18 13:33:59\n",
              "8            1       3284   3.99 2005-06-21 06:24:45\n",
              "9            1       4526   5.99 2005-07-08 03:17:05"
            ]
          },
          "execution_count": 4,
          "metadata": {},
          "output_type": "execute_result"
        }
      ],
      "source": [
        "buat_sql(\n",
        "    '''\n",
        "    SELECT customer_id, rental_id, amount, payment_date\n",
        "    FROM payment\n",
        "    LIMIT 10;\n",
        "    '''\n",
        ")"
      ]
    },
    {
      "cell_type": "markdown",
      "metadata": {
        "id": "aKPuSV9Sscu7"
      },
      "source": [
        "<hr>"
      ]
    },
    {
      "cell_type": "markdown",
      "metadata": {
        "id": "fg3HQbNUscu8"
      },
      "source": [
        "### Soal 2"
      ]
    },
    {
      "cell_type": "markdown",
      "metadata": {
        "id": "6k-2lFFMscu9"
      },
      "source": [
        "1. Gunakan database “Sakila”\n",
        "1. Dari table “film”, tampilkan 10 judul film, tahun release, dan durasi rental dimana judul film yang ditampilkan yang dimulai dengan huruf “S”"
      ]
    },
    {
      "cell_type": "code",
      "execution_count": null,
      "metadata": {
        "id": "CHrlATc4scu-",
        "outputId": "d8ee3e2b-388d-44b0-b04b-bfc1f1c28668"
      },
      "outputs": [
        {
          "data": {
            "text/html": [
              "<div>\n",
              "<style scoped>\n",
              "    .dataframe tbody tr th:only-of-type {\n",
              "        vertical-align: middle;\n",
              "    }\n",
              "\n",
              "    .dataframe tbody tr th {\n",
              "        vertical-align: top;\n",
              "    }\n",
              "\n",
              "    .dataframe thead th {\n",
              "        text-align: right;\n",
              "    }\n",
              "</style>\n",
              "<table border=\"1\" class=\"dataframe\">\n",
              "  <thead>\n",
              "    <tr style=\"text-align: right;\">\n",
              "      <th></th>\n",
              "      <th>title</th>\n",
              "      <th>release_year</th>\n",
              "      <th>rental_duration</th>\n",
              "    </tr>\n",
              "  </thead>\n",
              "  <tbody>\n",
              "    <tr>\n",
              "      <th>0</th>\n",
              "      <td>SABRINA MIDNIGHT</td>\n",
              "      <td>2006</td>\n",
              "      <td>5</td>\n",
              "    </tr>\n",
              "    <tr>\n",
              "      <th>1</th>\n",
              "      <td>SADDLE ANTITRUST</td>\n",
              "      <td>2006</td>\n",
              "      <td>7</td>\n",
              "    </tr>\n",
              "    <tr>\n",
              "      <th>2</th>\n",
              "      <td>SAGEBRUSH CLUELESS</td>\n",
              "      <td>2006</td>\n",
              "      <td>4</td>\n",
              "    </tr>\n",
              "    <tr>\n",
              "      <th>3</th>\n",
              "      <td>SAINTS BRIDE</td>\n",
              "      <td>2006</td>\n",
              "      <td>5</td>\n",
              "    </tr>\n",
              "    <tr>\n",
              "      <th>4</th>\n",
              "      <td>SALUTE APOLLO</td>\n",
              "      <td>2006</td>\n",
              "      <td>4</td>\n",
              "    </tr>\n",
              "    <tr>\n",
              "      <th>5</th>\n",
              "      <td>SAMURAI LION</td>\n",
              "      <td>2006</td>\n",
              "      <td>5</td>\n",
              "    </tr>\n",
              "    <tr>\n",
              "      <th>6</th>\n",
              "      <td>SANTA PARIS</td>\n",
              "      <td>2006</td>\n",
              "      <td>7</td>\n",
              "    </tr>\n",
              "    <tr>\n",
              "      <th>7</th>\n",
              "      <td>SASSY PACKER</td>\n",
              "      <td>2006</td>\n",
              "      <td>6</td>\n",
              "    </tr>\n",
              "    <tr>\n",
              "      <th>8</th>\n",
              "      <td>SATISFACTION CONFIDENTIAL</td>\n",
              "      <td>2006</td>\n",
              "      <td>3</td>\n",
              "    </tr>\n",
              "    <tr>\n",
              "      <th>9</th>\n",
              "      <td>SATURDAY LAMBS</td>\n",
              "      <td>2006</td>\n",
              "      <td>3</td>\n",
              "    </tr>\n",
              "  </tbody>\n",
              "</table>\n",
              "</div>"
            ],
            "text/plain": [
              "                       title  release_year  rental_duration\n",
              "0           SABRINA MIDNIGHT          2006                5\n",
              "1           SADDLE ANTITRUST          2006                7\n",
              "2         SAGEBRUSH CLUELESS          2006                4\n",
              "3               SAINTS BRIDE          2006                5\n",
              "4              SALUTE APOLLO          2006                4\n",
              "5               SAMURAI LION          2006                5\n",
              "6                SANTA PARIS          2006                7\n",
              "7               SASSY PACKER          2006                6\n",
              "8  SATISFACTION CONFIDENTIAL          2006                3\n",
              "9             SATURDAY LAMBS          2006                3"
            ]
          },
          "execution_count": 5,
          "metadata": {},
          "output_type": "execute_result"
        }
      ],
      "source": [
        "buat_sql(\n",
        "    '''\n",
        "    SELECT title, release_year, rental_duration\n",
        "    FROM film\n",
        "    WHERE title LIKE 's%'\n",
        "    LIMIT 10;\n",
        "    '''\n",
        ")"
      ]
    },
    {
      "cell_type": "markdown",
      "metadata": {
        "id": "s05Q9yKQscvA"
      },
      "source": [
        "<hr>"
      ]
    },
    {
      "cell_type": "markdown",
      "metadata": {
        "id": "RJPBzqpCscvA"
      },
      "source": [
        "### Soal 3"
      ]
    },
    {
      "cell_type": "markdown",
      "metadata": {
        "id": "imFIhpMOscvB"
      },
      "source": [
        "1. Gunakan database “Sakila”\n",
        "1. Tampilkan field durasi rental, banyaknya film dalam setiap durasi rental, dan rata-rata durasi film dari table “film”. Kelompokkan semuanya berdasarkan durasi rentalnya\n",
        "1. Karena rata-rata durasi film menghasilkan angka desimal, bulatkan hingga hanya 2 angka di belakang koma saja.\n"
      ]
    },
    {
      "cell_type": "code",
      "execution_count": null,
      "metadata": {
        "id": "8QnmwO0wscvC",
        "outputId": "e7250052-9163-43ea-f870-7fbe47a28d1d"
      },
      "outputs": [
        {
          "data": {
            "text/html": [
              "<div>\n",
              "<style scoped>\n",
              "    .dataframe tbody tr th:only-of-type {\n",
              "        vertical-align: middle;\n",
              "    }\n",
              "\n",
              "    .dataframe tbody tr th {\n",
              "        vertical-align: top;\n",
              "    }\n",
              "\n",
              "    .dataframe thead th {\n",
              "        text-align: right;\n",
              "    }\n",
              "</style>\n",
              "<table border=\"1\" class=\"dataframe\">\n",
              "  <thead>\n",
              "    <tr style=\"text-align: right;\">\n",
              "      <th></th>\n",
              "      <th>Durasi_Rental</th>\n",
              "      <th>Banyak_Film</th>\n",
              "      <th>Rata_rata_Durasi_Film</th>\n",
              "    </tr>\n",
              "  </thead>\n",
              "  <tbody>\n",
              "    <tr>\n",
              "      <th>0</th>\n",
              "      <td>3</td>\n",
              "      <td>203</td>\n",
              "      <td>112.91</td>\n",
              "    </tr>\n",
              "    <tr>\n",
              "      <th>1</th>\n",
              "      <td>4</td>\n",
              "      <td>203</td>\n",
              "      <td>111.23</td>\n",
              "    </tr>\n",
              "    <tr>\n",
              "      <th>2</th>\n",
              "      <td>5</td>\n",
              "      <td>191</td>\n",
              "      <td>116.56</td>\n",
              "    </tr>\n",
              "    <tr>\n",
              "      <th>3</th>\n",
              "      <td>6</td>\n",
              "      <td>212</td>\n",
              "      <td>117.04</td>\n",
              "    </tr>\n",
              "    <tr>\n",
              "      <th>4</th>\n",
              "      <td>7</td>\n",
              "      <td>191</td>\n",
              "      <td>118.83</td>\n",
              "    </tr>\n",
              "  </tbody>\n",
              "</table>\n",
              "</div>"
            ],
            "text/plain": [
              "   Durasi_Rental  Banyak_Film Rata_rata_Durasi_Film\n",
              "0              3          203                112.91\n",
              "1              4          203                111.23\n",
              "2              5          191                116.56\n",
              "3              6          212                117.04\n",
              "4              7          191                118.83"
            ]
          },
          "execution_count": 9,
          "metadata": {},
          "output_type": "execute_result"
        }
      ],
      "source": [
        "buat_sql(\n",
        "    '''\n",
        "    SELECT rental_duration as Durasi_Rental,\n",
        "    COUNT(film_id) as Banyak_Film,\n",
        "    ROUND(AVG(length), 2) as Rata_rata_Durasi_Film\n",
        "    FROM film\n",
        "    GROUP BY rental_duration\n",
        "    ORDER BY rental_duration\n",
        "    ''')"
      ]
    },
    {
      "cell_type": "markdown",
      "metadata": {
        "id": "ujxv7mKOscvD"
      },
      "source": [
        "<hr>"
      ]
    },
    {
      "cell_type": "markdown",
      "metadata": {
        "id": "Jm1bnMT6scvD"
      },
      "source": [
        "### Soal 4"
      ]
    },
    {
      "cell_type": "markdown",
      "metadata": {
        "id": "nNe1ijtmscvE"
      },
      "source": [
        "1. Gunakan database “Sakila”\n",
        "1. Dari table film, tampilkan title, durasi film, dan juga rating yang durasi filmnya lebih dari rata-rata durasi film total. \n",
        "1. Tampilkan 25 data yang diurutkan dari durasi terlama\n"
      ]
    },
    {
      "cell_type": "code",
      "execution_count": null,
      "metadata": {
        "id": "840_iFRpscvF",
        "outputId": "d5201740-5d21-4282-806c-d9d7967926fa"
      },
      "outputs": [
        {
          "data": {
            "text/html": [
              "<div>\n",
              "<style scoped>\n",
              "    .dataframe tbody tr th:only-of-type {\n",
              "        vertical-align: middle;\n",
              "    }\n",
              "\n",
              "    .dataframe tbody tr th {\n",
              "        vertical-align: top;\n",
              "    }\n",
              "\n",
              "    .dataframe thead th {\n",
              "        text-align: right;\n",
              "    }\n",
              "</style>\n",
              "<table border=\"1\" class=\"dataframe\">\n",
              "  <thead>\n",
              "    <tr style=\"text-align: right;\">\n",
              "      <th></th>\n",
              "      <th>title</th>\n",
              "      <th>length</th>\n",
              "      <th>rating</th>\n",
              "    </tr>\n",
              "  </thead>\n",
              "  <tbody>\n",
              "    <tr>\n",
              "      <th>0</th>\n",
              "      <td>INSTINCT AIRPORT</td>\n",
              "      <td>116</td>\n",
              "      <td>PG</td>\n",
              "    </tr>\n",
              "    <tr>\n",
              "      <th>1</th>\n",
              "      <td>MADIGAN DORADO</td>\n",
              "      <td>116</td>\n",
              "      <td>R</td>\n",
              "    </tr>\n",
              "    <tr>\n",
              "      <th>2</th>\n",
              "      <td>DUCK RACER</td>\n",
              "      <td>116</td>\n",
              "      <td>NC-17</td>\n",
              "    </tr>\n",
              "    <tr>\n",
              "      <th>3</th>\n",
              "      <td>WORDS HUNTER</td>\n",
              "      <td>116</td>\n",
              "      <td>PG</td>\n",
              "    </tr>\n",
              "    <tr>\n",
              "      <th>4</th>\n",
              "      <td>AFFAIR PREJUDICE</td>\n",
              "      <td>117</td>\n",
              "      <td>G</td>\n",
              "    </tr>\n",
              "    <tr>\n",
              "      <th>5</th>\n",
              "      <td>GRAFFITI LOVE</td>\n",
              "      <td>117</td>\n",
              "      <td>PG</td>\n",
              "    </tr>\n",
              "    <tr>\n",
              "      <th>6</th>\n",
              "      <td>MAGIC MALLRATS</td>\n",
              "      <td>117</td>\n",
              "      <td>PG</td>\n",
              "    </tr>\n",
              "    <tr>\n",
              "      <th>7</th>\n",
              "      <td>CHAMBER ITALIAN</td>\n",
              "      <td>117</td>\n",
              "      <td>NC-17</td>\n",
              "    </tr>\n",
              "    <tr>\n",
              "      <th>8</th>\n",
              "      <td>RESURRECTION SILVERADO</td>\n",
              "      <td>117</td>\n",
              "      <td>PG</td>\n",
              "    </tr>\n",
              "    <tr>\n",
              "      <th>9</th>\n",
              "      <td>ORIENT CLOSER</td>\n",
              "      <td>118</td>\n",
              "      <td>R</td>\n",
              "    </tr>\n",
              "    <tr>\n",
              "      <th>10</th>\n",
              "      <td>PATHS CONTROL</td>\n",
              "      <td>118</td>\n",
              "      <td>PG</td>\n",
              "    </tr>\n",
              "    <tr>\n",
              "      <th>11</th>\n",
              "      <td>JAWBREAKER BROOKLYN</td>\n",
              "      <td>118</td>\n",
              "      <td>PG</td>\n",
              "    </tr>\n",
              "    <tr>\n",
              "      <th>12</th>\n",
              "      <td>OTHERS SOUP</td>\n",
              "      <td>118</td>\n",
              "      <td>PG</td>\n",
              "    </tr>\n",
              "    <tr>\n",
              "      <th>13</th>\n",
              "      <td>BACKLASH UNDEFEATED</td>\n",
              "      <td>118</td>\n",
              "      <td>PG-13</td>\n",
              "    </tr>\n",
              "    <tr>\n",
              "      <th>14</th>\n",
              "      <td>PERSONAL LADYBUGS</td>\n",
              "      <td>118</td>\n",
              "      <td>PG-13</td>\n",
              "    </tr>\n",
              "    <tr>\n",
              "      <th>15</th>\n",
              "      <td>ROUGE SQUAD</td>\n",
              "      <td>118</td>\n",
              "      <td>NC-17</td>\n",
              "    </tr>\n",
              "    <tr>\n",
              "      <th>16</th>\n",
              "      <td>FIDELITY DEVIL</td>\n",
              "      <td>118</td>\n",
              "      <td>G</td>\n",
              "    </tr>\n",
              "    <tr>\n",
              "      <th>17</th>\n",
              "      <td>DUMBO LUST</td>\n",
              "      <td>119</td>\n",
              "      <td>NC-17</td>\n",
              "    </tr>\n",
              "    <tr>\n",
              "      <th>18</th>\n",
              "      <td>STRANGERS GRAFFITI</td>\n",
              "      <td>119</td>\n",
              "      <td>R</td>\n",
              "    </tr>\n",
              "    <tr>\n",
              "      <th>19</th>\n",
              "      <td>IDENTITY LOVER</td>\n",
              "      <td>119</td>\n",
              "      <td>PG-13</td>\n",
              "    </tr>\n",
              "    <tr>\n",
              "      <th>20</th>\n",
              "      <td>APOCALYPSE FLAMINGOS</td>\n",
              "      <td>119</td>\n",
              "      <td>R</td>\n",
              "    </tr>\n",
              "    <tr>\n",
              "      <th>21</th>\n",
              "      <td>BUGSY SONG</td>\n",
              "      <td>119</td>\n",
              "      <td>G</td>\n",
              "    </tr>\n",
              "    <tr>\n",
              "      <th>22</th>\n",
              "      <td>GAMES BOWFINGER</td>\n",
              "      <td>119</td>\n",
              "      <td>PG-13</td>\n",
              "    </tr>\n",
              "    <tr>\n",
              "      <th>23</th>\n",
              "      <td>DOLLS RAGE</td>\n",
              "      <td>120</td>\n",
              "      <td>PG-13</td>\n",
              "    </tr>\n",
              "    <tr>\n",
              "      <th>24</th>\n",
              "      <td>CALENDAR GUNFIGHT</td>\n",
              "      <td>120</td>\n",
              "      <td>NC-17</td>\n",
              "    </tr>\n",
              "  </tbody>\n",
              "</table>\n",
              "</div>"
            ],
            "text/plain": [
              "                     title  length rating\n",
              "0         INSTINCT AIRPORT     116     PG\n",
              "1           MADIGAN DORADO     116      R\n",
              "2               DUCK RACER     116  NC-17\n",
              "3             WORDS HUNTER     116     PG\n",
              "4         AFFAIR PREJUDICE     117      G\n",
              "5            GRAFFITI LOVE     117     PG\n",
              "6           MAGIC MALLRATS     117     PG\n",
              "7          CHAMBER ITALIAN     117  NC-17\n",
              "8   RESURRECTION SILVERADO     117     PG\n",
              "9            ORIENT CLOSER     118      R\n",
              "10           PATHS CONTROL     118     PG\n",
              "11     JAWBREAKER BROOKLYN     118     PG\n",
              "12             OTHERS SOUP     118     PG\n",
              "13     BACKLASH UNDEFEATED     118  PG-13\n",
              "14       PERSONAL LADYBUGS     118  PG-13\n",
              "15             ROUGE SQUAD     118  NC-17\n",
              "16          FIDELITY DEVIL     118      G\n",
              "17              DUMBO LUST     119  NC-17\n",
              "18      STRANGERS GRAFFITI     119      R\n",
              "19          IDENTITY LOVER     119  PG-13\n",
              "20    APOCALYPSE FLAMINGOS     119      R\n",
              "21              BUGSY SONG     119      G\n",
              "22         GAMES BOWFINGER     119  PG-13\n",
              "23              DOLLS RAGE     120  PG-13\n",
              "24       CALENDAR GUNFIGHT     120  NC-17"
            ]
          },
          "execution_count": 10,
          "metadata": {},
          "output_type": "execute_result"
        }
      ],
      "source": [
        "buat_sql(\n",
        "    '''\n",
        "    SELECT title, length, rating\n",
        "    FROM film\n",
        "    WHERE length >\n",
        "    (SELECT AVG(length) FROM film)\n",
        "    ORDER BY length\n",
        "    LIMIT 25\n",
        "    '''\n",
        ")"
      ]
    },
    {
      "cell_type": "markdown",
      "metadata": {
        "id": "qG9Vgs16scvG"
      },
      "source": [
        "<hr>"
      ]
    },
    {
      "cell_type": "markdown",
      "metadata": {
        "id": "fHNAJCxHscvG"
      },
      "source": [
        "### Soal 5"
      ]
    },
    {
      "cell_type": "markdown",
      "metadata": {
        "id": "2H0efRb5scvH"
      },
      "source": [
        "1. Gunakan database “Sakila”\n",
        "1. Tampilkan rating, Replacement Cost tertinggi dari setiap kelompok rating, Rental Rate Terendah dari setiap kelompok rating, dan Rata-Rata Durasi dari setiap kelompok rating dari table film. \n"
      ]
    },
    {
      "cell_type": "code",
      "execution_count": null,
      "metadata": {
        "id": "ufCS50tHscvI",
        "outputId": "6ef6e313-67b8-4c91-f9a4-25cff5972f47"
      },
      "outputs": [
        {
          "data": {
            "text/html": [
              "<div>\n",
              "<style scoped>\n",
              "    .dataframe tbody tr th:only-of-type {\n",
              "        vertical-align: middle;\n",
              "    }\n",
              "\n",
              "    .dataframe tbody tr th {\n",
              "        vertical-align: top;\n",
              "    }\n",
              "\n",
              "    .dataframe thead th {\n",
              "        text-align: right;\n",
              "    }\n",
              "</style>\n",
              "<table border=\"1\" class=\"dataframe\">\n",
              "  <thead>\n",
              "    <tr style=\"text-align: right;\">\n",
              "      <th></th>\n",
              "      <th>Rating</th>\n",
              "      <th>Replacement_Cost_Tertinggi</th>\n",
              "      <th>Rental_Rate_Terendah</th>\n",
              "      <th>Rata_rata_Durasi</th>\n",
              "    </tr>\n",
              "  </thead>\n",
              "  <tbody>\n",
              "    <tr>\n",
              "      <th>0</th>\n",
              "      <td>PG</td>\n",
              "      <td>29.99</td>\n",
              "      <td>4.99</td>\n",
              "      <td>112.0052</td>\n",
              "    </tr>\n",
              "    <tr>\n",
              "      <th>1</th>\n",
              "      <td>G</td>\n",
              "      <td>29.99</td>\n",
              "      <td>4.99</td>\n",
              "      <td>111.0506</td>\n",
              "    </tr>\n",
              "    <tr>\n",
              "      <th>2</th>\n",
              "      <td>NC-17</td>\n",
              "      <td>29.99</td>\n",
              "      <td>4.99</td>\n",
              "      <td>113.2286</td>\n",
              "    </tr>\n",
              "    <tr>\n",
              "      <th>3</th>\n",
              "      <td>PG-13</td>\n",
              "      <td>29.99</td>\n",
              "      <td>4.99</td>\n",
              "      <td>120.4439</td>\n",
              "    </tr>\n",
              "    <tr>\n",
              "      <th>4</th>\n",
              "      <td>R</td>\n",
              "      <td>29.99</td>\n",
              "      <td>4.99</td>\n",
              "      <td>118.6615</td>\n",
              "    </tr>\n",
              "  </tbody>\n",
              "</table>\n",
              "</div>"
            ],
            "text/plain": [
              "  Rating Replacement_Cost_Tertinggi Rental_Rate_Terendah Rata_rata_Durasi\n",
              "0     PG                      29.99                 4.99         112.0052\n",
              "1      G                      29.99                 4.99         111.0506\n",
              "2  NC-17                      29.99                 4.99         113.2286\n",
              "3  PG-13                      29.99                 4.99         120.4439\n",
              "4      R                      29.99                 4.99         118.6615"
            ]
          },
          "execution_count": 11,
          "metadata": {},
          "output_type": "execute_result"
        }
      ],
      "source": [
        "buat_sql(\n",
        "    '''\n",
        "    SELECT rating as Rating,\n",
        "    MAX(replacement_cost) as Replacement_Cost_Tertinggi,\n",
        "    MAX(rental_rate) as Rental_Rate_Terendah,\n",
        "    AVG(length) as Rata_rata_Durasi\n",
        "    FROM film\n",
        "    GROUP BY rating\n",
        "    '''\n",
        ")"
      ]
    },
    {
      "cell_type": "markdown",
      "metadata": {
        "id": "FX6dkrmtscvK"
      },
      "source": [
        "<hr>"
      ]
    },
    {
      "cell_type": "markdown",
      "metadata": {
        "id": "h85XjmiOscvK"
      },
      "source": [
        "### Soal 6"
      ]
    },
    {
      "cell_type": "markdown",
      "metadata": {
        "id": "ySY90zLTscvL"
      },
      "source": [
        "1. Gunakan database “Sakila”\n",
        "1. Tampilkan 15 daftar film yang memiliki huruf “K” pada akhir pada title. Tampilkan title, durasi, serta Bahasa pada film.\n",
        "1. Sebagai catatan, lakukan join terlebih dahulu dari table “film” dan juga table “language”. \n"
      ]
    },
    {
      "cell_type": "code",
      "execution_count": null,
      "metadata": {
        "id": "1wAzXEJ5scvM",
        "outputId": "468bc051-77f0-41d6-99cb-7bd69b870ede"
      },
      "outputs": [
        {
          "data": {
            "text/html": [
              "<div>\n",
              "<style scoped>\n",
              "    .dataframe tbody tr th:only-of-type {\n",
              "        vertical-align: middle;\n",
              "    }\n",
              "\n",
              "    .dataframe tbody tr th {\n",
              "        vertical-align: top;\n",
              "    }\n",
              "\n",
              "    .dataframe thead th {\n",
              "        text-align: right;\n",
              "    }\n",
              "</style>\n",
              "<table border=\"1\" class=\"dataframe\">\n",
              "  <thead>\n",
              "    <tr style=\"text-align: right;\">\n",
              "      <th></th>\n",
              "      <th>Judul</th>\n",
              "      <th>Durasi</th>\n",
              "      <th>Bahasa_Film</th>\n",
              "    </tr>\n",
              "  </thead>\n",
              "  <tbody>\n",
              "    <tr>\n",
              "      <th>0</th>\n",
              "      <td>AIRPORT POLLOCK</td>\n",
              "      <td>54</td>\n",
              "      <td>English</td>\n",
              "    </tr>\n",
              "    <tr>\n",
              "      <th>1</th>\n",
              "      <td>BEAST HUNCHBACK</td>\n",
              "      <td>89</td>\n",
              "      <td>English</td>\n",
              "    </tr>\n",
              "    <tr>\n",
              "      <th>2</th>\n",
              "      <td>BULL SHAWSHANK</td>\n",
              "      <td>125</td>\n",
              "      <td>English</td>\n",
              "    </tr>\n",
              "    <tr>\n",
              "      <th>3</th>\n",
              "      <td>CANYON STOCK</td>\n",
              "      <td>85</td>\n",
              "      <td>English</td>\n",
              "    </tr>\n",
              "    <tr>\n",
              "      <th>4</th>\n",
              "      <td>CHILL LUCK</td>\n",
              "      <td>142</td>\n",
              "      <td>English</td>\n",
              "    </tr>\n",
              "    <tr>\n",
              "      <th>5</th>\n",
              "      <td>CHITTY LOCK</td>\n",
              "      <td>107</td>\n",
              "      <td>English</td>\n",
              "    </tr>\n",
              "    <tr>\n",
              "      <th>6</th>\n",
              "      <td>CHOCOLATE DUCK</td>\n",
              "      <td>132</td>\n",
              "      <td>English</td>\n",
              "    </tr>\n",
              "    <tr>\n",
              "      <th>7</th>\n",
              "      <td>CITIZEN SHREK</td>\n",
              "      <td>165</td>\n",
              "      <td>English</td>\n",
              "    </tr>\n",
              "    <tr>\n",
              "      <th>8</th>\n",
              "      <td>CROWDS TELEMARK</td>\n",
              "      <td>112</td>\n",
              "      <td>English</td>\n",
              "    </tr>\n",
              "    <tr>\n",
              "      <th>9</th>\n",
              "      <td>DAZED PUNK</td>\n",
              "      <td>120</td>\n",
              "      <td>English</td>\n",
              "    </tr>\n",
              "    <tr>\n",
              "      <th>10</th>\n",
              "      <td>DESTINATION JERK</td>\n",
              "      <td>76</td>\n",
              "      <td>English</td>\n",
              "    </tr>\n",
              "    <tr>\n",
              "      <th>11</th>\n",
              "      <td>FANTASIA PARK</td>\n",
              "      <td>131</td>\n",
              "      <td>English</td>\n",
              "    </tr>\n",
              "    <tr>\n",
              "      <th>12</th>\n",
              "      <td>FLYING HOOK</td>\n",
              "      <td>69</td>\n",
              "      <td>English</td>\n",
              "    </tr>\n",
              "    <tr>\n",
              "      <th>13</th>\n",
              "      <td>GRIT CLOCKWORK</td>\n",
              "      <td>137</td>\n",
              "      <td>English</td>\n",
              "    </tr>\n",
              "    <tr>\n",
              "      <th>14</th>\n",
              "      <td>HANDICAP BOONDOCK</td>\n",
              "      <td>108</td>\n",
              "      <td>English</td>\n",
              "    </tr>\n",
              "  </tbody>\n",
              "</table>\n",
              "</div>"
            ],
            "text/plain": [
              "                Judul  Durasi Bahasa_Film\n",
              "0     AIRPORT POLLOCK      54     English\n",
              "1     BEAST HUNCHBACK      89     English\n",
              "2      BULL SHAWSHANK     125     English\n",
              "3        CANYON STOCK      85     English\n",
              "4          CHILL LUCK     142     English\n",
              "5         CHITTY LOCK     107     English\n",
              "6      CHOCOLATE DUCK     132     English\n",
              "7       CITIZEN SHREK     165     English\n",
              "8     CROWDS TELEMARK     112     English\n",
              "9          DAZED PUNK     120     English\n",
              "10   DESTINATION JERK      76     English\n",
              "11      FANTASIA PARK     131     English\n",
              "12        FLYING HOOK      69     English\n",
              "13     GRIT CLOCKWORK     137     English\n",
              "14  HANDICAP BOONDOCK     108     English"
            ]
          },
          "execution_count": 13,
          "metadata": {},
          "output_type": "execute_result"
        }
      ],
      "source": [
        "buat_sql(\n",
        "    '''\n",
        "    SELECT film.title as Judul,\n",
        "    film.length as Durasi,\n",
        "    language.name as Bahasa_Film\n",
        "    FROM film INNER JOIN language\n",
        "    ON film.language_id = language.language_id\n",
        "    WHERE film.title LIKE '%k'\n",
        "    LIMIT 15;\n",
        "    '''\n",
        ")"
      ]
    },
    {
      "cell_type": "markdown",
      "metadata": {
        "id": "Pdkr9oOoscvN"
      },
      "source": [
        "<hr>"
      ]
    },
    {
      "cell_type": "markdown",
      "metadata": {
        "id": "YVduo6jfscvN"
      },
      "source": [
        "### Soal 7"
      ]
    },
    {
      "cell_type": "markdown",
      "metadata": {
        "id": "362d9EQdscvO"
      },
      "source": [
        "1. Gunakan database “Sakila”\n",
        "1. Tampilkan Judul Film (Dari table “film”), First Name (Dari table “actor”), dan Last Name (Dari table “actor”) dari actor yang memiliki “actor_id” = 14\n",
        "1. Sebagai catatan, lakukan join table terlebih dahulu antara table “film”, “film_actor”, dan table “actor”. \n"
      ]
    },
    {
      "cell_type": "code",
      "execution_count": null,
      "metadata": {
        "id": "8qThyeDpscvO",
        "outputId": "6d8e7176-0d92-41f7-bdf0-e325a0004eb2"
      },
      "outputs": [
        {
          "data": {
            "text/html": [
              "<div>\n",
              "<style scoped>\n",
              "    .dataframe tbody tr th:only-of-type {\n",
              "        vertical-align: middle;\n",
              "    }\n",
              "\n",
              "    .dataframe tbody tr th {\n",
              "        vertical-align: top;\n",
              "    }\n",
              "\n",
              "    .dataframe thead th {\n",
              "        text-align: right;\n",
              "    }\n",
              "</style>\n",
              "<table border=\"1\" class=\"dataframe\">\n",
              "  <thead>\n",
              "    <tr style=\"text-align: right;\">\n",
              "      <th></th>\n",
              "      <th>title</th>\n",
              "      <th>first_name</th>\n",
              "      <th>last_name</th>\n",
              "    </tr>\n",
              "  </thead>\n",
              "  <tbody>\n",
              "    <tr>\n",
              "      <th>0</th>\n",
              "      <td>CLASH FREDDY</td>\n",
              "      <td>VIVIEN</td>\n",
              "      <td>BERGEN</td>\n",
              "    </tr>\n",
              "    <tr>\n",
              "      <th>1</th>\n",
              "      <td>CRANES RESERVOIR</td>\n",
              "      <td>VIVIEN</td>\n",
              "      <td>BERGEN</td>\n",
              "    </tr>\n",
              "    <tr>\n",
              "      <th>2</th>\n",
              "      <td>DIRTY ACE</td>\n",
              "      <td>VIVIEN</td>\n",
              "      <td>BERGEN</td>\n",
              "    </tr>\n",
              "    <tr>\n",
              "      <th>3</th>\n",
              "      <td>DONNIE ALLEY</td>\n",
              "      <td>VIVIEN</td>\n",
              "      <td>BERGEN</td>\n",
              "    </tr>\n",
              "    <tr>\n",
              "      <th>4</th>\n",
              "      <td>DRIFTER COMMANDMENTS</td>\n",
              "      <td>VIVIEN</td>\n",
              "      <td>BERGEN</td>\n",
              "    </tr>\n",
              "    <tr>\n",
              "      <th>5</th>\n",
              "      <td>DRIVING POLISH</td>\n",
              "      <td>VIVIEN</td>\n",
              "      <td>BERGEN</td>\n",
              "    </tr>\n",
              "    <tr>\n",
              "      <th>6</th>\n",
              "      <td>DRUMS DYNAMITE</td>\n",
              "      <td>VIVIEN</td>\n",
              "      <td>BERGEN</td>\n",
              "    </tr>\n",
              "    <tr>\n",
              "      <th>7</th>\n",
              "      <td>ENEMY ODDS</td>\n",
              "      <td>VIVIEN</td>\n",
              "      <td>BERGEN</td>\n",
              "    </tr>\n",
              "    <tr>\n",
              "      <th>8</th>\n",
              "      <td>EXCITEMENT EVE</td>\n",
              "      <td>VIVIEN</td>\n",
              "      <td>BERGEN</td>\n",
              "    </tr>\n",
              "    <tr>\n",
              "      <th>9</th>\n",
              "      <td>GORGEOUS BINGO</td>\n",
              "      <td>VIVIEN</td>\n",
              "      <td>BERGEN</td>\n",
              "    </tr>\n",
              "    <tr>\n",
              "      <th>10</th>\n",
              "      <td>HIGH ENCINO</td>\n",
              "      <td>VIVIEN</td>\n",
              "      <td>BERGEN</td>\n",
              "    </tr>\n",
              "    <tr>\n",
              "      <th>11</th>\n",
              "      <td>HILLS NEIGHBORS</td>\n",
              "      <td>VIVIEN</td>\n",
              "      <td>BERGEN</td>\n",
              "    </tr>\n",
              "    <tr>\n",
              "      <th>12</th>\n",
              "      <td>HOBBIT ALIEN</td>\n",
              "      <td>VIVIEN</td>\n",
              "      <td>BERGEN</td>\n",
              "    </tr>\n",
              "    <tr>\n",
              "      <th>13</th>\n",
              "      <td>IMPACT ALADDIN</td>\n",
              "      <td>VIVIEN</td>\n",
              "      <td>BERGEN</td>\n",
              "    </tr>\n",
              "    <tr>\n",
              "      <th>14</th>\n",
              "      <td>ITALIAN AFRICAN</td>\n",
              "      <td>VIVIEN</td>\n",
              "      <td>BERGEN</td>\n",
              "    </tr>\n",
              "    <tr>\n",
              "      <th>15</th>\n",
              "      <td>JAPANESE RUN</td>\n",
              "      <td>VIVIEN</td>\n",
              "      <td>BERGEN</td>\n",
              "    </tr>\n",
              "    <tr>\n",
              "      <th>16</th>\n",
              "      <td>KENTUCKIAN GIANT</td>\n",
              "      <td>VIVIEN</td>\n",
              "      <td>BERGEN</td>\n",
              "    </tr>\n",
              "    <tr>\n",
              "      <th>17</th>\n",
              "      <td>LOVELY JINGLE</td>\n",
              "      <td>VIVIEN</td>\n",
              "      <td>BERGEN</td>\n",
              "    </tr>\n",
              "    <tr>\n",
              "      <th>18</th>\n",
              "      <td>LOVER TRUMAN</td>\n",
              "      <td>VIVIEN</td>\n",
              "      <td>BERGEN</td>\n",
              "    </tr>\n",
              "    <tr>\n",
              "      <th>19</th>\n",
              "      <td>MUSSOLINI SPOILERS</td>\n",
              "      <td>VIVIEN</td>\n",
              "      <td>BERGEN</td>\n",
              "    </tr>\n",
              "    <tr>\n",
              "      <th>20</th>\n",
              "      <td>POLISH BROOKLYN</td>\n",
              "      <td>VIVIEN</td>\n",
              "      <td>BERGEN</td>\n",
              "    </tr>\n",
              "    <tr>\n",
              "      <th>21</th>\n",
              "      <td>SALUTE APOLLO</td>\n",
              "      <td>VIVIEN</td>\n",
              "      <td>BERGEN</td>\n",
              "    </tr>\n",
              "    <tr>\n",
              "      <th>22</th>\n",
              "      <td>SATURDAY LAMBS</td>\n",
              "      <td>VIVIEN</td>\n",
              "      <td>BERGEN</td>\n",
              "    </tr>\n",
              "    <tr>\n",
              "      <th>23</th>\n",
              "      <td>STOCK GLASS</td>\n",
              "      <td>VIVIEN</td>\n",
              "      <td>BERGEN</td>\n",
              "    </tr>\n",
              "    <tr>\n",
              "      <th>24</th>\n",
              "      <td>STREETCAR INTENTIONS</td>\n",
              "      <td>VIVIEN</td>\n",
              "      <td>BERGEN</td>\n",
              "    </tr>\n",
              "    <tr>\n",
              "      <th>25</th>\n",
              "      <td>TIGHTS DAWN</td>\n",
              "      <td>VIVIEN</td>\n",
              "      <td>BERGEN</td>\n",
              "    </tr>\n",
              "    <tr>\n",
              "      <th>26</th>\n",
              "      <td>TRAP GUYS</td>\n",
              "      <td>VIVIEN</td>\n",
              "      <td>BERGEN</td>\n",
              "    </tr>\n",
              "    <tr>\n",
              "      <th>27</th>\n",
              "      <td>TYCOON GATHERING</td>\n",
              "      <td>VIVIEN</td>\n",
              "      <td>BERGEN</td>\n",
              "    </tr>\n",
              "    <tr>\n",
              "      <th>28</th>\n",
              "      <td>VOICE PEACH</td>\n",
              "      <td>VIVIEN</td>\n",
              "      <td>BERGEN</td>\n",
              "    </tr>\n",
              "    <tr>\n",
              "      <th>29</th>\n",
              "      <td>WESTWARD SEABISCUIT</td>\n",
              "      <td>VIVIEN</td>\n",
              "      <td>BERGEN</td>\n",
              "    </tr>\n",
              "  </tbody>\n",
              "</table>\n",
              "</div>"
            ],
            "text/plain": [
              "                   title first_name last_name\n",
              "0           CLASH FREDDY     VIVIEN    BERGEN\n",
              "1       CRANES RESERVOIR     VIVIEN    BERGEN\n",
              "2              DIRTY ACE     VIVIEN    BERGEN\n",
              "3           DONNIE ALLEY     VIVIEN    BERGEN\n",
              "4   DRIFTER COMMANDMENTS     VIVIEN    BERGEN\n",
              "5         DRIVING POLISH     VIVIEN    BERGEN\n",
              "6         DRUMS DYNAMITE     VIVIEN    BERGEN\n",
              "7             ENEMY ODDS     VIVIEN    BERGEN\n",
              "8         EXCITEMENT EVE     VIVIEN    BERGEN\n",
              "9         GORGEOUS BINGO     VIVIEN    BERGEN\n",
              "10           HIGH ENCINO     VIVIEN    BERGEN\n",
              "11       HILLS NEIGHBORS     VIVIEN    BERGEN\n",
              "12          HOBBIT ALIEN     VIVIEN    BERGEN\n",
              "13        IMPACT ALADDIN     VIVIEN    BERGEN\n",
              "14       ITALIAN AFRICAN     VIVIEN    BERGEN\n",
              "15          JAPANESE RUN     VIVIEN    BERGEN\n",
              "16      KENTUCKIAN GIANT     VIVIEN    BERGEN\n",
              "17         LOVELY JINGLE     VIVIEN    BERGEN\n",
              "18          LOVER TRUMAN     VIVIEN    BERGEN\n",
              "19    MUSSOLINI SPOILERS     VIVIEN    BERGEN\n",
              "20       POLISH BROOKLYN     VIVIEN    BERGEN\n",
              "21         SALUTE APOLLO     VIVIEN    BERGEN\n",
              "22        SATURDAY LAMBS     VIVIEN    BERGEN\n",
              "23           STOCK GLASS     VIVIEN    BERGEN\n",
              "24  STREETCAR INTENTIONS     VIVIEN    BERGEN\n",
              "25           TIGHTS DAWN     VIVIEN    BERGEN\n",
              "26             TRAP GUYS     VIVIEN    BERGEN\n",
              "27      TYCOON GATHERING     VIVIEN    BERGEN\n",
              "28           VOICE PEACH     VIVIEN    BERGEN\n",
              "29   WESTWARD SEABISCUIT     VIVIEN    BERGEN"
            ]
          },
          "execution_count": 14,
          "metadata": {},
          "output_type": "execute_result"
        }
      ],
      "source": [
        "buat_sql(\n",
        "    '''\n",
        "    SELECT film.title,\n",
        "    actor.first_name,\n",
        "    actor.last_name\n",
        "    FROM film_actor \n",
        "    JOIN film \n",
        "    ON film_actor.film_id = film.film_id\n",
        "    JOIN actor \n",
        "    ON actor.actor_id = film_actor.actor_id\n",
        "    WHERE film_actor.actor_id = 14;\n",
        "    '''\n",
        ")"
      ]
    },
    {
      "cell_type": "markdown",
      "metadata": {
        "id": "QQsv0BZtscvP"
      },
      "source": [
        "<hr>"
      ]
    },
    {
      "cell_type": "markdown",
      "metadata": {
        "id": "zlB0wtYiscvQ"
      },
      "source": [
        "### Soal 8"
      ]
    },
    {
      "cell_type": "markdown",
      "metadata": {
        "id": "VudmblWbscvQ"
      },
      "source": [
        "1. Gunakan database “Sakila”\n",
        "1. Tampilkan city dan country id pada tabel \"city\" yang memili huruf \"d\" pada nama kotanya, serta diakhiri dengan huruf a\n",
        "1. Tampilkan 15 data yang diurutkan berdasarkan citynya\n"
      ]
    },
    {
      "cell_type": "code",
      "execution_count": null,
      "metadata": {
        "id": "k-xUBLULscvR",
        "outputId": "a7382823-4cf1-4e28-ffb6-d83ab9f7170e"
      },
      "outputs": [
        {
          "data": {
            "text/html": [
              "<div>\n",
              "<style scoped>\n",
              "    .dataframe tbody tr th:only-of-type {\n",
              "        vertical-align: middle;\n",
              "    }\n",
              "\n",
              "    .dataframe tbody tr th {\n",
              "        vertical-align: top;\n",
              "    }\n",
              "\n",
              "    .dataframe thead th {\n",
              "        text-align: right;\n",
              "    }\n",
              "</style>\n",
              "<table border=\"1\" class=\"dataframe\">\n",
              "  <thead>\n",
              "    <tr style=\"text-align: right;\">\n",
              "      <th></th>\n",
              "      <th>city</th>\n",
              "      <th>country_id</th>\n",
              "    </tr>\n",
              "  </thead>\n",
              "  <tbody>\n",
              "    <tr>\n",
              "      <th>0</th>\n",
              "      <td>Adana</td>\n",
              "      <td>97</td>\n",
              "    </tr>\n",
              "    <tr>\n",
              "      <th>1</th>\n",
              "      <td>Addis Abeba</td>\n",
              "      <td>31</td>\n",
              "    </tr>\n",
              "    <tr>\n",
              "      <th>2</th>\n",
              "      <td>Alessandria</td>\n",
              "      <td>49</td>\n",
              "    </tr>\n",
              "    <tr>\n",
              "      <th>3</th>\n",
              "      <td>Alvorada</td>\n",
              "      <td>15</td>\n",
              "    </tr>\n",
              "    <tr>\n",
              "      <th>4</th>\n",
              "      <td>Aparecida de Goinia</td>\n",
              "      <td>15</td>\n",
              "    </tr>\n",
              "    <tr>\n",
              "      <th>5</th>\n",
              "      <td>Avellaneda</td>\n",
              "      <td>6</td>\n",
              "    </tr>\n",
              "    <tr>\n",
              "      <th>6</th>\n",
              "      <td>Bamenda</td>\n",
              "      <td>19</td>\n",
              "    </tr>\n",
              "    <tr>\n",
              "      <th>7</th>\n",
              "      <td>Crdoba</td>\n",
              "      <td>6</td>\n",
              "    </tr>\n",
              "    <tr>\n",
              "      <th>8</th>\n",
              "      <td>Dhaka</td>\n",
              "      <td>12</td>\n",
              "    </tr>\n",
              "    <tr>\n",
              "      <th>9</th>\n",
              "      <td>Guadalajara</td>\n",
              "      <td>60</td>\n",
              "    </tr>\n",
              "    <tr>\n",
              "      <th>10</th>\n",
              "      <td>Haldia</td>\n",
              "      <td>44</td>\n",
              "    </tr>\n",
              "    <tr>\n",
              "      <th>11</th>\n",
              "      <td>Hodeida</td>\n",
              "      <td>107</td>\n",
              "    </tr>\n",
              "    <tr>\n",
              "      <th>12</th>\n",
              "      <td>Jedda</td>\n",
              "      <td>82</td>\n",
              "    </tr>\n",
              "    <tr>\n",
              "      <th>13</th>\n",
              "      <td>Juiz de Fora</td>\n",
              "      <td>15</td>\n",
              "    </tr>\n",
              "    <tr>\n",
              "      <th>14</th>\n",
              "      <td>Kaduna</td>\n",
              "      <td>69</td>\n",
              "    </tr>\n",
              "  </tbody>\n",
              "</table>\n",
              "</div>"
            ],
            "text/plain": [
              "                   city  country_id\n",
              "0                 Adana          97\n",
              "1           Addis Abeba          31\n",
              "2           Alessandria          49\n",
              "3              Alvorada          15\n",
              "4   Aparecida de Goinia          15\n",
              "5            Avellaneda           6\n",
              "6               Bamenda          19\n",
              "7                Crdoba           6\n",
              "8                 Dhaka          12\n",
              "9           Guadalajara          60\n",
              "10               Haldia          44\n",
              "11              Hodeida         107\n",
              "12                Jedda          82\n",
              "13         Juiz de Fora          15\n",
              "14               Kaduna          69"
            ]
          },
          "execution_count": 15,
          "metadata": {},
          "output_type": "execute_result"
        }
      ],
      "source": [
        "buat_sql(\n",
        "    '''\n",
        "    SELECT city, country_id\n",
        "    FROM city\n",
        "    WHERE city like '%d%' and city like '%a'\n",
        "    ORDER BY city\n",
        "    LIMIT 15;\n",
        "    '''\n",
        ")"
      ]
    },
    {
      "cell_type": "markdown",
      "metadata": {
        "id": "q11-l7Z5scvS"
      },
      "source": [
        "<hr>"
      ]
    },
    {
      "cell_type": "markdown",
      "metadata": {
        "id": "pXvG6K2mscvS"
      },
      "source": [
        "### Nomor 9"
      ]
    },
    {
      "cell_type": "markdown",
      "metadata": {
        "id": "HckMc0mgscvT"
      },
      "source": [
        "1. Gunakan database “sakila”\n",
        "1. Tampilkan nama genre (name) dari table “category” dan jumlah banyaknya film di setiap genrenya.\n",
        "1. Lakukan join terlebih dahulu antara table “film”, “film_category”, dan “category”\n",
        "1. Urutkan berdasarkan jumlah film di setiap kategorinya.\n"
      ]
    },
    {
      "cell_type": "code",
      "execution_count": null,
      "metadata": {
        "id": "7HPsQ7AOscvT",
        "outputId": "6bb94cda-eb6a-4e09-82ab-2e2293007eba"
      },
      "outputs": [
        {
          "data": {
            "text/html": [
              "<div>\n",
              "<style scoped>\n",
              "    .dataframe tbody tr th:only-of-type {\n",
              "        vertical-align: middle;\n",
              "    }\n",
              "\n",
              "    .dataframe tbody tr th {\n",
              "        vertical-align: top;\n",
              "    }\n",
              "\n",
              "    .dataframe thead th {\n",
              "        text-align: right;\n",
              "    }\n",
              "</style>\n",
              "<table border=\"1\" class=\"dataframe\">\n",
              "  <thead>\n",
              "    <tr style=\"text-align: right;\">\n",
              "      <th></th>\n",
              "      <th>Genre</th>\n",
              "      <th>Banyak_Film</th>\n",
              "    </tr>\n",
              "  </thead>\n",
              "  <tbody>\n",
              "    <tr>\n",
              "      <th>0</th>\n",
              "      <td>Music</td>\n",
              "      <td>51</td>\n",
              "    </tr>\n",
              "    <tr>\n",
              "      <th>1</th>\n",
              "      <td>Horror</td>\n",
              "      <td>56</td>\n",
              "    </tr>\n",
              "    <tr>\n",
              "      <th>2</th>\n",
              "      <td>Classics</td>\n",
              "      <td>57</td>\n",
              "    </tr>\n",
              "    <tr>\n",
              "      <th>3</th>\n",
              "      <td>Travel</td>\n",
              "      <td>57</td>\n",
              "    </tr>\n",
              "    <tr>\n",
              "      <th>4</th>\n",
              "      <td>Comedy</td>\n",
              "      <td>58</td>\n",
              "    </tr>\n",
              "    <tr>\n",
              "      <th>5</th>\n",
              "      <td>Children</td>\n",
              "      <td>60</td>\n",
              "    </tr>\n",
              "    <tr>\n",
              "      <th>6</th>\n",
              "      <td>Sci-Fi</td>\n",
              "      <td>61</td>\n",
              "    </tr>\n",
              "    <tr>\n",
              "      <th>7</th>\n",
              "      <td>Games</td>\n",
              "      <td>61</td>\n",
              "    </tr>\n",
              "    <tr>\n",
              "      <th>8</th>\n",
              "      <td>Drama</td>\n",
              "      <td>62</td>\n",
              "    </tr>\n",
              "    <tr>\n",
              "      <th>9</th>\n",
              "      <td>New</td>\n",
              "      <td>63</td>\n",
              "    </tr>\n",
              "    <tr>\n",
              "      <th>10</th>\n",
              "      <td>Action</td>\n",
              "      <td>64</td>\n",
              "    </tr>\n",
              "    <tr>\n",
              "      <th>11</th>\n",
              "      <td>Animation</td>\n",
              "      <td>66</td>\n",
              "    </tr>\n",
              "    <tr>\n",
              "      <th>12</th>\n",
              "      <td>Documentary</td>\n",
              "      <td>68</td>\n",
              "    </tr>\n",
              "    <tr>\n",
              "      <th>13</th>\n",
              "      <td>Family</td>\n",
              "      <td>69</td>\n",
              "    </tr>\n",
              "    <tr>\n",
              "      <th>14</th>\n",
              "      <td>Foreign</td>\n",
              "      <td>73</td>\n",
              "    </tr>\n",
              "    <tr>\n",
              "      <th>15</th>\n",
              "      <td>Sports</td>\n",
              "      <td>74</td>\n",
              "    </tr>\n",
              "  </tbody>\n",
              "</table>\n",
              "</div>"
            ],
            "text/plain": [
              "          Genre  Banyak_Film\n",
              "0         Music           51\n",
              "1        Horror           56\n",
              "2      Classics           57\n",
              "3        Travel           57\n",
              "4        Comedy           58\n",
              "5      Children           60\n",
              "6        Sci-Fi           61\n",
              "7         Games           61\n",
              "8         Drama           62\n",
              "9           New           63\n",
              "10       Action           64\n",
              "11    Animation           66\n",
              "12  Documentary           68\n",
              "13       Family           69\n",
              "14      Foreign           73\n",
              "15       Sports           74"
            ]
          },
          "execution_count": 16,
          "metadata": {},
          "output_type": "execute_result"
        }
      ],
      "source": [
        "buat_sql(\n",
        "    '''\n",
        "    SELECT category.name as Genre,\n",
        "    COUNT(film.title) as Banyak_Film\n",
        "    FROM film\n",
        "    LEFT JOIN film_category \n",
        "    ON film.film_id = film_category.film_id\n",
        "    LEFT JOIN category \n",
        "    ON film_category.category_id = category.category_id\n",
        "    GROUP BY category.name\n",
        "    ORDER BY Banyak_Film;\n",
        "    '''\n",
        ")"
      ]
    },
    {
      "cell_type": "markdown",
      "metadata": {
        "id": "rqx1yPS8scvU"
      },
      "source": [
        "<hr>"
      ]
    },
    {
      "cell_type": "markdown",
      "metadata": {
        "id": "nbu2uSziscvV"
      },
      "source": [
        "### Nomor 10"
      ]
    },
    {
      "cell_type": "markdown",
      "metadata": {
        "id": "u-qMVGXlscvV"
      },
      "source": [
        "1. Gunakan database “Sakila”\n",
        "1. Tampilkan title, description, length, serta rating dari table “film”. \n",
        "1. Tampilkan 10 judul yang memiliki judul dengan akhiran ‘h’ dan memiliki durasi lebih dari durasi rata-rata.\n",
        "1. Urutkan berdasarkan judul nya.\n"
      ]
    },
    {
      "cell_type": "code",
      "execution_count": null,
      "metadata": {
        "id": "--kRYTORscvW",
        "outputId": "bc94c0e4-726c-4c7e-ce10-68f17b686a2b"
      },
      "outputs": [
        {
          "data": {
            "text/html": [
              "<div>\n",
              "<style scoped>\n",
              "    .dataframe tbody tr th:only-of-type {\n",
              "        vertical-align: middle;\n",
              "    }\n",
              "\n",
              "    .dataframe tbody tr th {\n",
              "        vertical-align: top;\n",
              "    }\n",
              "\n",
              "    .dataframe thead th {\n",
              "        text-align: right;\n",
              "    }\n",
              "</style>\n",
              "<table border=\"1\" class=\"dataframe\">\n",
              "  <thead>\n",
              "    <tr style=\"text-align: right;\">\n",
              "      <th></th>\n",
              "      <th>title</th>\n",
              "      <th>description</th>\n",
              "      <th>length</th>\n",
              "      <th>rating</th>\n",
              "    </tr>\n",
              "  </thead>\n",
              "  <tbody>\n",
              "    <tr>\n",
              "      <th>0</th>\n",
              "      <td>CHICAGO NORTH</td>\n",
              "      <td>A Fateful Yarn of a Mad Cow And a Waitress who...</td>\n",
              "      <td>185</td>\n",
              "      <td>PG-13</td>\n",
              "    </tr>\n",
              "    <tr>\n",
              "      <th>1</th>\n",
              "      <td>DADDY PITTSBURGH</td>\n",
              "      <td>A Epic Story of a A Shark And a Student who mu...</td>\n",
              "      <td>161</td>\n",
              "      <td>G</td>\n",
              "    </tr>\n",
              "    <tr>\n",
              "      <th>2</th>\n",
              "      <td>DOUBLE WRATH</td>\n",
              "      <td>A Thoughtful Yarn of a Womanizer And a Dog who...</td>\n",
              "      <td>177</td>\n",
              "      <td>R</td>\n",
              "    </tr>\n",
              "    <tr>\n",
              "      <th>3</th>\n",
              "      <td>DOUBTFIRE LABYRINTH</td>\n",
              "      <td>A Intrepid Panorama of a Butler And a Composer...</td>\n",
              "      <td>154</td>\n",
              "      <td>R</td>\n",
              "    </tr>\n",
              "    <tr>\n",
              "      <th>4</th>\n",
              "      <td>DRIVING POLISH</td>\n",
              "      <td>A Action-Packed Yarn of a Feminist And a Techn...</td>\n",
              "      <td>175</td>\n",
              "      <td>NC-17</td>\n",
              "    </tr>\n",
              "    <tr>\n",
              "      <th>5</th>\n",
              "      <td>EMPIRE MALKOVICH</td>\n",
              "      <td>A Amazing Story of a Feminist And a Cat who mu...</td>\n",
              "      <td>177</td>\n",
              "      <td>G</td>\n",
              "    </tr>\n",
              "    <tr>\n",
              "      <th>6</th>\n",
              "      <td>GREASE YOUTH</td>\n",
              "      <td>A Emotional Panorama of a Secret Agent And a W...</td>\n",
              "      <td>135</td>\n",
              "      <td>G</td>\n",
              "    </tr>\n",
              "    <tr>\n",
              "      <th>7</th>\n",
              "      <td>HAROLD FRENCH</td>\n",
              "      <td>A Stunning Saga of a Sumo Wrestler And a Stude...</td>\n",
              "      <td>168</td>\n",
              "      <td>NC-17</td>\n",
              "    </tr>\n",
              "    <tr>\n",
              "      <th>8</th>\n",
              "      <td>HOMICIDE PEACH</td>\n",
              "      <td>A Astounding Documentary of a Hunter And a Boy...</td>\n",
              "      <td>141</td>\n",
              "      <td>PG-13</td>\n",
              "    </tr>\n",
              "    <tr>\n",
              "      <th>9</th>\n",
              "      <td>JADE BUNCH</td>\n",
              "      <td>A Insightful Panorama of a Squirrel And a Mad ...</td>\n",
              "      <td>174</td>\n",
              "      <td>NC-17</td>\n",
              "    </tr>\n",
              "  </tbody>\n",
              "</table>\n",
              "</div>"
            ],
            "text/plain": [
              "                 title                                        description  \\\n",
              "0        CHICAGO NORTH  A Fateful Yarn of a Mad Cow And a Waitress who...   \n",
              "1     DADDY PITTSBURGH  A Epic Story of a A Shark And a Student who mu...   \n",
              "2         DOUBLE WRATH  A Thoughtful Yarn of a Womanizer And a Dog who...   \n",
              "3  DOUBTFIRE LABYRINTH  A Intrepid Panorama of a Butler And a Composer...   \n",
              "4       DRIVING POLISH  A Action-Packed Yarn of a Feminist And a Techn...   \n",
              "5     EMPIRE MALKOVICH  A Amazing Story of a Feminist And a Cat who mu...   \n",
              "6         GREASE YOUTH  A Emotional Panorama of a Secret Agent And a W...   \n",
              "7        HAROLD FRENCH  A Stunning Saga of a Sumo Wrestler And a Stude...   \n",
              "8       HOMICIDE PEACH  A Astounding Documentary of a Hunter And a Boy...   \n",
              "9           JADE BUNCH  A Insightful Panorama of a Squirrel And a Mad ...   \n",
              "\n",
              "   length rating  \n",
              "0     185  PG-13  \n",
              "1     161      G  \n",
              "2     177      R  \n",
              "3     154      R  \n",
              "4     175  NC-17  \n",
              "5     177      G  \n",
              "6     135      G  \n",
              "7     168  NC-17  \n",
              "8     141  PG-13  \n",
              "9     174  NC-17  "
            ]
          },
          "execution_count": 17,
          "metadata": {},
          "output_type": "execute_result"
        }
      ],
      "source": [
        "buat_sql(\n",
        "    '''\n",
        "    SELECT title, description, length, rating\n",
        "    FROM film\n",
        "    WHERE title like '%h' AND\n",
        "    length > (SELECT AVG(length) FROM film)\n",
        "    ORDER BY title\n",
        "    LIMIT 10;\n",
        "    '''\n",
        ")"
      ]
    },
    {
      "cell_type": "markdown",
      "metadata": {
        "id": "ribSohPvscvW"
      },
      "source": [
        "<hr>"
      ]
    },
    {
      "cell_type": "markdown",
      "metadata": {
        "id": "g9P5T7AjscvX"
      },
      "source": [
        "# **``Thank you``**"
      ]
    }
  ],
  "metadata": {
    "kernelspec": {
      "display_name": "Python 3",
      "language": "python",
      "name": "python3"
    },
    "language_info": {
      "codemirror_mode": {
        "name": "ipython",
        "version": 3
      },
      "file_extension": ".py",
      "mimetype": "text/x-python",
      "name": "python",
      "nbconvert_exporter": "python",
      "pygments_lexer": "ipython3",
      "version": "3.8.6"
    },
    "colab": {
      "name": "MySQL-Portfolio.ipynb",
      "provenance": [],
      "collapsed_sections": []
    }
  },
  "nbformat": 4,
  "nbformat_minor": 0
}